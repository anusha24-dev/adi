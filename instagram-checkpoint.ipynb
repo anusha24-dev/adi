{
 "cells": [
  {
   "cell_type": "code",
   "execution_count": 8,
   "id": "b0041203-438c-4e27-a673-4d3fd86c05e5",
   "metadata": {},
   "outputs": [
    {
     "name": "stdout",
     "output_type": "stream",
     "text": [
      "f  f  "
     ]
    }
   ],
   "source": [
    "str1=\"abcde\"\n",
    "str2=\"abcdeff\"\n",
    "for i in str2:\n",
    "    if i not in str1:\n",
    "        print(i,end=\"  \")"
   ]
  },
  {
   "cell_type": "code",
   "execution_count": 26,
   "id": "825255df-f8e9-4ca5-8de2-0b9fb44b6357",
   "metadata": {},
   "outputs": [
    {
     "name": "stdout",
     "output_type": "stream",
     "text": [
      "ANU"
     ]
    }
   ],
   "source": [
    "s=\"101111111111111101111111111111111111110\"\n",
    "count=1\n",
    "for i in s:\n",
    "    if i==\"1\":\n",
    "        count=count+1\n",
    "\n",
    "    else:\n",
    "        print(chr(63+count),end=\"\")\n",
    "        count=1\n",
    "        "
   ]
  },
  {
   "cell_type": "code",
   "execution_count": 39,
   "id": "7e14fc1b-e282-4cd9-aeb5-ccdf223f9cc2",
   "metadata": {},
   "outputs": [
    {
     "name": "stdout",
     "output_type": "stream",
     "text": [
      "7\n",
      "prime\n"
     ]
    }
   ],
   "source": [
    "n=4   \n",
    "print(num)\n",
    "for i in range(2,num):\n",
    "    if num%i==0:\n",
    "        print(\"not a prime\")\n",
    "\n",
    "else:\n",
    "    print(\"prime\")"
   ]
  },
  {
   "cell_type": "code",
   "execution_count": 42,
   "id": "6e3d21b3-edb5-4982-a5f0-ff01092dda7d",
   "metadata": {},
   "outputs": [
    {
     "name": "stdout",
     "output_type": "stream",
     "text": [
      "8 regnorts\n",
      "2 ma\n",
      "1 i\n"
     ]
    }
   ],
   "source": [
    "str1=\"i am stronger\"\n",
    "reverse=str1[::-1]\n",
    "words=reverse.split()\n",
    "for word in words:\n",
    "    print(len(word),word)"
   ]
  },
  {
   "cell_type": "code",
   "execution_count": 43,
   "id": "995cf924-25e5-4284-b81f-63cb2734ccf6",
   "metadata": {},
   "outputs": [
    {
     "name": "stdout",
     "output_type": "stream",
     "text": [
      "5221\n"
     ]
    }
   ],
   "source": [
    "n=1225\n",
    "reverse=0\n",
    "while(n>0):\n",
    "    last=n%10\n",
    "    reverse=reverse*10+last\n",
    "    n=n//10\n",
    "\n",
    "print(reverse)"
   ]
  },
  {
   "cell_type": "code",
   "execution_count": 47,
   "id": "5d065361-03df-45c2-8fbf-36a318001c27",
   "metadata": {},
   "outputs": [
    {
     "name": "stdout",
     "output_type": "stream",
     "text": [
      "not palind\n"
     ]
    }
   ],
   "source": [
    "str=\"malayalama\"\n",
    "rev=str[::-1]\n",
    "if str==rev:\n",
    "    print(str,\" is a palindrome\")\n",
    "\n",
    "else:\n",
    "    print(\"not palind\")"
   ]
  },
  {
   "cell_type": "code",
   "execution_count": null,
   "id": "c12a0790-4ff8-4e38-aa44-f62bede08473",
   "metadata": {},
   "outputs": [],
   "source": []
  }
 ],
 "metadata": {
  "kernelspec": {
   "display_name": "Python 3 (ipykernel)",
   "language": "python",
   "name": "python3"
  },
  "language_info": {
   "codemirror_mode": {
    "name": "ipython",
    "version": 3
   },
   "file_extension": ".py",
   "mimetype": "text/x-python",
   "name": "python",
   "nbconvert_exporter": "python",
   "pygments_lexer": "ipython3",
   "version": "3.11.5"
  }
 },
 "nbformat": 4,
 "nbformat_minor": 5
}
